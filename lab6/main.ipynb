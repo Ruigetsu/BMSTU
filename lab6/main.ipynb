{
 "cells": [
  {
   "cell_type": "markdown",
   "id": "ea7961a3",
   "metadata": {},
   "source": [
    "Дыновский Антон ИУ7 - 16Б\n",
    "\n",
    "Лаба 6\n",
    "\n",
    "Варианты:   4:7  |  5:2"
   ]
  },
  {
   "cell_type": "code",
   "execution_count": null,
   "id": "dbf8e0b6",
   "metadata": {},
   "outputs": [],
   "source": [
    "list_of_num = list(map(int,input(\"Введите элементы списка через пробел: \").split()))\n",
    "num = int(input(\"Введите элемент для вставки: \"))\n",
    "indx = int(input(\"Введите индекс вставки элемента: \"))"
   ]
  },
  {
   "cell_type": "code",
   "execution_count": null,
   "id": "bf97d4ea",
   "metadata": {},
   "outputs": [],
   "source": [
    "#Module 1a\n",
    "if indx >= len(list_of_num) + 1 or indx <= -len(list_of_num) - 2: #Если индекс больше чем (длина списка + 1) или \n",
    "    print(\"Вы ввели неверный индекс\")\n",
    "else:\n",
    "    list_of_num.insert(indx,num)\n",
    "    print(f\"Новый список = {list_of_num}\")"
   ]
  },
  {
   "cell_type": "code",
   "execution_count": null,
   "id": "4ee04494",
   "metadata": {},
   "outputs": [],
   "source": []
  }
 ],
 "metadata": {
  "kernelspec": {
   "display_name": "Python 3",
   "language": "python",
   "name": "python3"
  },
  "language_info": {
   "name": "python",
   "version": "3.13.1"
  }
 },
 "nbformat": 4,
 "nbformat_minor": 5
}
