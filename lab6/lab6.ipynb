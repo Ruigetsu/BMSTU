{
 "cells": [
  {
   "cell_type": "code",
   "execution_count": null,
   "id": "b9820066",
   "metadata": {},
   "outputs": [],
   "source": [
    "list_of_num = list(map(int,input(\"Введите элементы списка через пробел: \").split()))\n",
    "indx = int(input(\"Введите индекс вставки элемента: \"))"
   ]
  },
  {
   "cell_type": "code",
   "execution_count": null,
   "id": "e886e862",
   "metadata": {},
   "outputs": [
    {
     "name": "stdout",
     "output_type": "stream",
     "text": [
      "[1, 2, 3, 4]\n"
     ]
    }
   ],
   "source": [
    "extremums = []\n",
    "if len(list_of_num) <= 2: \n",
    "    print(\"В списке нет экстремумов\")\n",
    "for i in range(1,len(list_of_num)-2): \n",
    "    if list_of_num[i] == max(list_of_num[i-1:i+2]) or list_of_num[i] == min(list_of_num[i-1:i+2]):"
   ]
  }
 ],
 "metadata": {
  "kernelspec": {
   "display_name": "Python 3",
   "language": "python",
   "name": "python3"
  },
  "language_info": {
   "codemirror_mode": {
    "name": "ipython",
    "version": 3
   },
   "file_extension": ".py",
   "mimetype": "text/x-python",
   "name": "python",
   "nbconvert_exporter": "python",
   "pygments_lexer": "ipython3",
   "version": "3.13.1"
  }
 },
 "nbformat": 4,
 "nbformat_minor": 5
}
