{
 "cells": [
  {
   "attachments": {
    "Снимок экрана 2025-09-27 в 3.04.10 PM — средний размер.png": {
     "image/png": "[encoded data removed]"
    }
   },
   "cell_type": "markdown",
   "metadata": {},
   "source": [
    "Дыновский Антон Денисович ИУ7 - 16Б\n",
    "\n",
    "Лаба 4 \n",
    "\n",
    "Программа вычисляющая значение суммы бесконечного ряда, с точностью до EPSILON\n",
    "\n",
    "\n",
    "![Снимок экрана 2025-09-27 в 3.04.10 PM — средний размер.png](<attachment:Снимок экрана 2025-09-27 в 3.04.10 PM — средний размер.png>)"
   ]
  },
  {
   "cell_type": "code",
   "execution_count": 42,
   "metadata": {},
   "outputs": [],
   "source": [
    "x = float(input(\"Введите значение аргумента x: \"))\n",
    "EPS = float(input(\"Введите необходимую точность eps: \"))\n",
    "max_iterations = int(input(\"Введите максимальное кол-во итераций: \"))\n",
    "step_of_print = int(input(\"Введите шаг печати: \"))"
   ]
  },
  {
   "cell_type": "code",
   "execution_count": 43,
   "metadata": {},
   "outputs": [
    {
     "name": "stdout",
     "output_type": "stream",
     "text": [
      "---------------------------------------------\n",
      "| № итерации |      t       |      s       |\n",
      "---------------------------------------------\n",
      "Точность не может быть отрицательной\n"
     ]
    }
   ],
   "source": [
    "y_prev = y = 0\n",
    "n_prev = 1\n",
    "\n",
    "if EPS > 0:\n",
    "    print(f\"{'-' * 45}\\n| {'№ итерации'} | {'t':^12} | {'s':^12} |\\n{'-' * 45}\") #Вывод таблицы\n",
    "    for n in range(1,max_iterations+1): # проходимся по итерациям\n",
    "        y_prev = y #Обновляем прошлое значение фукнции\n",
    "        y += x**(4*n - 3) / (4*n - 3) #Вычисляем новое значение функции\n",
    "        diff_in_values = abs(y - y_prev) #Вычисляем разницу между текущей и прошлой итерацией\n",
    "        if n == 1 or (n - n_prev) == step_of_print: #Выводим первую строку а потом с шагом step_of_print\n",
    "            print(f\"| {n:<10} | {diff_in_values:<12g} | {y:<12g} | \\n{'-'*45}\") #Выводим строку\n",
    "            n_prev = n #Обновляем значение последней итерации, когда мы выводили строку\n",
    "        if diff_in_values < EPS: #Если значение между итерациями < EPS\n",
    "            print(f\"Сумма бесконечного ряда = {y:g}\\nEPS = {EPS}\\n\\\n",
    "    Разница в последних итерациях = {diff_in_values:g}\\nВычислена за {n} итераций.\")\n",
    "            break\n",
    "    else: #Если break не было\n",
    "        print(f\"Не удалось достичь точности eps = {EPS} за заданное кол-во итераций\")\n",
    "else:\n",
    "    print(\"Точность не может быть отрицательной\")"
   ]
  },
  {
   "cell_type": "code",
   "execution_count": null,
   "metadata": {},
   "outputs": [],
   "source": []
  }
 ],
 "metadata": {
  "kernelspec": {
   "display_name": "Python 3",
   "language": "python",
   "name": "python3"
  },
  "language_info": {
   "codemirror_mode": {
    "name": "ipython",
    "version": 3
   },
   "file_extension": ".py",
   "mimetype": "text/x-python",
   "name": "python",
   "nbconvert_exporter": "python",
   "pygments_lexer": "ipython3",
   "version": "3.13.1"
  }
 },
 "nbformat": 4,
 "nbformat_minor": 2
}
