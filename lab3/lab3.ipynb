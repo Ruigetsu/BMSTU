{
 "cells": [
  {
   "cell_type": "markdown",
   "id": "93e55bd6",
   "metadata": {},
   "source": [
    "Дыновский Антон Денисович ИУ7-16Б\n",
    "Лаба 3\n",
    "\n",
    "ТЗ: \n",
    "\n",
    "    По введённым целочисленным координатам трех точек на плоскости \n",
    "    вычисляет длины сторон образованного треугольника и длину высоты, проведенной из наименьшего угла.\n",
    "    \n",
    "    Определить, является ли треугольник тупоугольным. Далее вводятся координаты точки.\n",
    "    Определить, находится ли точка внутри треугольника. \n",
    "    Если да, то найти расстояние от точки до ближайшей стороны треугольника."
   ]
  },
  {
   "cell_type": "code",
   "execution_count": 64,
   "id": "81915e31",
   "metadata": {},
   "outputs": [],
   "source": [
    "xa,ya = map(int,input(\"Введите целочисленные координаты точки A через пробел: \").split()) #Ввод координат точки А\n",
    "xb,yb = map(int,input(\"Введите целочисленные координаты точки B через пробел: \").split()) #Ввод координат точки B\n",
    "xc,yc = map(int,input(\"Введите целочисленные координаты точки C через пробел: \").split()) #Ввод координат точки С\n",
    "\n",
    "if xb == xa or xc == xa or xc == xb:\n",
    "    pass\n",
    "else:\n",
    "    k1 = (yb-ya)/(xb-xa)\n",
    "    k2 = (yc-ya)/(xc-xa)\n",
    "    k3 = (yc-yb)/(xc-xb)\n",
    "if (k1 == k2 == k3) or any([xa,xb]) == xc or xa == xb or any([ya,yb]) == yc or ya == yb: \n",
    "    print(\"Точки лежат на одной прямой\")"
   ]
  },
  {
   "cell_type": "code",
   "execution_count": 65,
   "id": "ab352c7e",
   "metadata": {},
   "outputs": [
    {
     "name": "stdout",
     "output_type": "stream",
     "text": [
      "Длина стороны AB: 7.07107 \n",
      "Длина стороны AC: 5 \n",
      "Длина стороны CB: 5\n",
      "Высота проведённая из наименьшего угла: 5.0\n",
      "Треугольник ABC не тупоугольный\n",
      "\n"
     ]
    }
   ],
   "source": [
    "#from math import pi,acos,sin\n",
    "\n",
    "A = (xa,ya) \n",
    "B = (xb,yb)\n",
    "C = (xc,yc)\n",
    "\n",
    "ab = (xb-xa,yb-ya) #Вектор с началом в точке А и концом в точке B\n",
    "ac = (xc-xa,yc-ya) #Вектор с началом в точке А и концом в точке C\n",
    "cb = (xb-xc,yb-yc) #Вектор с началом в точке C и концом в точке B\n",
    "\n",
    "AB = (ab[0]**2 + ab[1]**2)**0.5 #Длина вектора(стороны) AB\n",
    "AC = (ac[0]**2 + ac[1]**2)**0.5 #Длина вектора(стороны) AC\n",
    "CB = (cb[0]**2 + cb[1]**2)**0.5 #Длина вектора(стороны) CB\n",
    "print(f\"Длина стороны AB: {AB:g} \\nДлина стороны AC: {AC:g} \\nДлина стороны CB: {CB:g}\") #Вывод длин сторон треугольника \n",
    "\n",
    "EPS = 1e-8 \n",
    "\n",
    "p = sum([AB,AC,CB])/2 #Полупериметр треугольльника\n",
    "S = round((p*(p-AB)*(p-AC)*(p-CB))**0.5, 4) #Площадь по формуле герона\n",
    "h_to_min_side = round(S * 2 / min([AB,AC,CB]),4) #Высота пров. к меньшей стороне, т.е. из наименьшего угла\n",
    "\n",
    "print(f\"Высота проведённая из наименьшего угла: {h_to_min_side}\") #Вывод\n",
    "\n",
    "List_of_Sides = sorted([AB,AC,CB])\n",
    "if List_of_Sides[2]**2 - List_of_Sides[0]**2 - List_of_Sides[1]**2 > EPS: \n",
    "    print(\"Треугольник ABC - тупоугольный\")\n",
    "\n",
    "else: \n",
    "    print(\"Треугольник ABC не тупоугольный\")\n",
    "\n",
    "print()"
   ]
  },
  {
   "cell_type": "code",
   "execution_count": 66,
   "id": "42bbe92d",
   "metadata": {},
   "outputs": [],
   "source": [
    "xO,yO = map(float,input(\"Введите координаты точки O через пробел: \").split()) #Ввод произваольной точки О"
   ]
  },
  {
   "cell_type": "code",
   "execution_count": 67,
   "id": "d4963fc5",
   "metadata": {},
   "outputs": [
    {
     "name": "stdout",
     "output_type": "stream",
     "text": [
      "Точка О с координатами (1.0, 0.5) лежит внутри треугольника\n",
      "Расстояние до ближайшей стороны = 0.5\n"
     ]
    }
   ],
   "source": [
    "sideA = (xa-xO,ya-yO) #Вектор с началом в точке О и концом в точке А\n",
    "sideB = (xb-xO,yb-yO) #Вектор с началом в точке О и концом в точке B\n",
    "sideC = (xc-xO,yc-yO) #Вектор с началом в точке О и концом в точке C\n",
    "\n",
    "length_sideA = (sideA[0]**2 + sideA[1]**2)**0.5\n",
    "length_sideB = (sideB[0]**2 + sideB[1]**2)**0.5\n",
    "length_sideC = (sideC[0]**2 + sideC[1]**2)**0.5\n",
    "\n",
    "p_AOB = sum([length_sideA,length_sideB,AB])/2\n",
    "p_AOC = sum([length_sideA,length_sideC,AC])/2\n",
    "p_COB = sum([length_sideC,length_sideB,CB])/2\n",
    "\n",
    "S_AOB = (p_AOB*(p_AOB-AB)*(p_AOB-length_sideA)*(p_AOB-length_sideB))**0.5\n",
    "S_AOC = (p_AOC*(p_AOC-AC)*(p_AOC-length_sideA)*(p_AOC-length_sideC))**0.5\n",
    "S_COB = (p_COB*(p_COB-CB)*(p_COB-length_sideB)*(p_COB-length_sideC))**0.5\n",
    "if S - (S_AOB + S_AOC + S_COB) <= EPS: \n",
    "    if (all([S_AOB,S_AOC,S_COB]) != 0): \n",
    "        print(f\"Точка О с координатами {xO,yO} лежит внутри треугольника\")\n",
    "        height_to_AB = round(S_AOB * 2 / AB,4)\n",
    "        height_to_AC = round(S_AOC * 2 / AC,4)\n",
    "        height_to_CB = round(S_COB * 2 / CB,4)\n",
    "        print(f\"Расстояние до ближайшей стороны = {min(height_to_AC,height_to_AB,height_to_CB):g}\")\n",
    "    else:\n",
    "        print(\"лежит на границе треугольника\")\n",
    "else: \n",
    "    print(\"не лежит внутри треугольника\")\n",
    "\n"
   ]
  }
 ],
 "metadata": {
  "kernelspec": {
   "display_name": "Python 3",
   "language": "python",
   "name": "python3"
  },
  "language_info": {
   "codemirror_mode": {
    "name": "ipython",
    "version": 3
   },
   "file_extension": ".py",
   "mimetype": "text/x-python",
   "name": "python",
   "nbconvert_exporter": "python",
   "pygments_lexer": "ipython3",
   "version": "3.13.1"
  }
 },
 "nbformat": 4,
 "nbformat_minor": 5
}
