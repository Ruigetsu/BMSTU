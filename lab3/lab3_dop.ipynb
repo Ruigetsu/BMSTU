{
 "cells": [
  {
   "cell_type": "markdown",
   "metadata": {},
   "source": [
    "``` Python\n",
    "def Area(Side1,Side2,Side3): #Функция для вычисления площади по трем векторам\n",
    "    l1 = length_of_side(*Side1)\n",
    "    l2 = length_of_side(*Side2)\n",
    "    l3 = length_of_side(*Side3) \n",
    "    p = sum([l1,l2,l3])/2\n",
    "    S = round((p*(p-l1)*(p-l2)*(p-l3))**0.5, 4)\n",
    "    return S\n",
    "\n",
    "def Height(Side1,Side2,Side3): #фукнция для вычисления наименьшей высоты по трем векторам \n",
    "    l1 = length_of_side(*Side1)\n",
    "    l2 = length_of_side(*Side2)\n",
    "    l3 = length_of_side(*Side3) \n",
    "    return round(Area(Side1,Side2,Side3) * 2 / max(l1,l2,l3),4)\n",
    "\n",
    "def angle_between(Side1,Side2):\n",
    "    l1 = length_of_side(*Side1)\n",
    "    l2 = length_of_side(*Side2)\n",
    "    if l1*l2 != 0:\n",
    "        return acos((Side1[0]*Side2[0] + Side1[1]*Side2[1]) / (l1*l2)) #Вычисление угла через арккосинус\n",
    "\n",
    "def Area(Side1,Side2):\n",
    "    l1 = length_of_side(*Side1)\n",
    "    l2 = length_of_side(*Side2)\n",
    "    S0 = round(0.5 * l1 * l2 * sin(angle_between(Side1,Side2)),4)\n",
    "    return S0\n",
    "S0 = Area(ab,ac)\n",
    "h0 = round(S0 * 2 / min([AB,AC,CB]),4)\n",
    "\n",
    "print(\"угол между AB и AC = {:.2g}\".format(180 * angle_between(ab,ac) / pi))\n",
    "\n",
    "```"
   ]
  }
 ],
 "metadata": {
  "language_info": {
   "name": "python"
  }
 },
 "nbformat": 4,
 "nbformat_minor": 2
}
