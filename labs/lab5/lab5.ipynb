{
 "cells": [
  {
   "attachments": {
    "telegram-cloud-photo-size-2-5390873020014394705-x.jpg": {
     "image/jpeg": "[encoded data removed]"
    }
   },
   "cell_type": "markdown",
   "metadata": {},
   "source": [
    "Дыновский Антон Денисович ИУ7 - 16Б\n",
    "Лаба 5\n",
    "![telegram-cloud-photo-size-2-5390873020014394705-x.jpg](attachment:telegram-cloud-photo-size-2-5390873020014394705-x.jpg)"
   ]
  },
  {
   "cell_type": "code",
   "execution_count": 43,
   "metadata": {},
   "outputs": [
    {
     "name": "stdout",
     "output_type": "stream",
     "text": [
      "---------------------------------\n",
      "|   x   |     y1     |   y2    |\n",
      "---------------------------------\n",
      "|  1.5  | -0.935863  | -10.625 |\n",
      "|  1.6  | -0.873408  | -10.144 |\n",
      "|  1.7  | -0.808237  | -9.647  |\n",
      "|  1.8  | -0.740509  | -9.128  |\n",
      "|  1.9  | -0.670368  | -8.581  |\n",
      "|   2   | -0.59794   | -8      |\n",
      "|  2.1  | -0.523339  | -7.379  |\n",
      "|  2.2  | -0.44667   | -6.712  |\n",
      "|  2.3  | -0.368026  | -5.993  |\n",
      "|  2.4  | -0.287493  | -5.216  |\n",
      "|  2.5  | -0.20515   | -4.375  |\n",
      "|  2.6  | -0.121069  | -3.464  |\n",
      "|  2.7  | -0.0353178 | -2.477  |\n",
      "|  2.8  | 0.0520425  | -1.408  |\n",
      "|  2.9  | 0.140954   | -0.251  |\n",
      "|   3   | 0.231364   | 1       |\n",
      "|  3.1  | 0.323221   | 2.351   |\n",
      "|  3.2  | 0.41648    | 3.808   |\n",
      "|  3.3  | 0.511096   | 5.377   |\n",
      "|  3.4  | 0.607028   | 7.064   |\n",
      "|  3.5  | 0.704238   | 8.875   |\n",
      "---------------------------------\n"
     ]
    }
   ],
   "source": [
    "from math import log10\n",
    "\n",
    "print(\"-\"*33)\n",
    "print(f\"| {\"x\":^5} | {\"y1\":^10} | {\"y2\":^7} |\\n{'-'*33}\")\n",
    "\n",
    "x = 1.5\n",
    "max_y2, min_y2 = 0, 0\n",
    "x_ticks_vals = []\n",
    "y_vals = []\n",
    "while x <= 3.5:\n",
    "    y1 = x*log10(x) - 1.2\n",
    "    y2 = x**3 - 4*x**2 + 10*x - 20\n",
    "    x_ticks_vals.append(x)\n",
    "    y_vals.append(y2)\n",
    "    min_y2 = min(min_y2,y2)\n",
    "    max_y2 = max(max_y2,y2)\n",
    "    print(f\"| {x:^5g} | {y1:<10g} | {y2:<7g} |\")\n",
    "    x = round(x+0.1,4)\n",
    "print(\"-\"*33) "
   ]
  },
  {
   "cell_type": "code",
   "execution_count": 47,
   "metadata": {},
   "outputs": [],
   "source": [
    "ticks = int(input(\"Введите кол-во засечек от 4 до 8\")) "
   ]
  },
  {
   "cell_type": "code",
   "execution_count": 58,
   "metadata": {},
   "outputs": [
    {
     "name": "stdout",
     "output_type": "stream",
     "text": [
      "     -10.62              -6.72               -2.83               1.07                4.97              8.88\n",
      "1.5 | *                                                     |                                                  \n",
      "1.6 |   *                                                   |                                                  \n",
      "1.7 |      *                                                |                                                  \n",
      "1.8 |         *                                             |                                                  \n",
      "1.9 |           *                                           |                                                  \n",
      "2.0 |              *                                        |                                                  \n",
      "2.1 |                  *                                    |                                                  \n",
      "2.2 |                     *                                 |                                                  \n",
      "2.3 |                         *                             |                                                  \n",
      "2.4 |                             *                         |                                                  \n",
      "2.5 |                                 *                     |                                                  \n",
      "2.6 |                                      *                |                                                  \n",
      "2.7 |                                           *           |                                                  \n",
      "2.8 |                                                *      |                                                  \n",
      "2.9 |                                                      *|                                                  \n",
      "3.0 |                                                       |     *                                            \n",
      "3.1 |                                                       |            *                                     \n",
      "3.2 |                                                       |                   *                              \n",
      "3.3 |                                                       |                           *                      \n",
      "3.4 |                                                       |                                    *             \n",
      "3.5 |                                                       |                                             *    \n"
     ]
    }
   ],
   "source": [
    "width = 100\n",
    "\n",
    "val_per_symbl = (max_y2 - min_y2) / width #какое значение соответствует одному символу\n",
    "\n",
    "# --- Засечки (равномерные) ---\n",
    "tick_step = (max_y2 - min_y2) / (ticks - 1) #шаг засечек\n",
    "tick_positions = [] #позиция засечек\n",
    "tick_labels = [] #значение засечек\n",
    "\n",
    "j = 0\n",
    "pos = 0\n",
    "while j < ticks:\n",
    "    tick_value = min_y2 + j * tick_step\n",
    "    pos = int(round((tick_value - min_y2) / val_per_symbl)) #Делим разницу между значением текущей засечки и начальной на шаг за один символ, получаем позицию засечки от 0 до 100\n",
    "    if j > 0 and tick_value * float(tick_labels[-1]) < 0: #добавляем значение засечки для 0, j > 0, чтобы сначала добавилась первая засечка\n",
    "        pos0 = int(round((0 - min_y2) / val_per_symbl))\n",
    "        tick_positions.append(pos0)\n",
    "        tick_labels.append(\"0\")\n",
    "    tick_positions.append(pos)\n",
    "    tick_labels.append(f\"{tick_value:.2f}\")\n",
    "    j += 1\n",
    "\n",
    "pairs = tuple(zip(tick_positions, tick_labels)) #Кортеж вида: (позиция засечки,наименование засечки)\n",
    "\n",
    "#Вывод линейки засечек\n",
    "offset = 5 #Отступ от начала строки для всех засечек\n",
    "last_tick = 2\n",
    "line = [\" \"] * (width + offset + last_tick) #Создание пустой линии\n",
    "\n",
    "for k in range(len(tick_positions)):\n",
    "    if tick_labels[k] != \"0\":\n",
    "        pos = tick_positions[k] + offset #Определение позиции засечки + отступ от начала строки\n",
    "        label = tick_labels[k] #\"Название\" засечки\n",
    "        start = pos\n",
    "        if start + len(label) > len(line): #Вывод последней засечки\n",
    "            start = len(line) - len(label)\n",
    "        for c in range(len(label)): #Заполняем нужное место строки символами числа\n",
    "            line[start + c] = label[c]\n",
    "    else: #Если засечка нуля, то пропускаем и не выводим его\n",
    "        continue\n",
    "\n",
    "print(\"\".join(line)) #Вывод засечек\n",
    "\n",
    "#Построение графика\n",
    "for i in range(len(x_ticks_vals)):\n",
    "    x = x_ticks_vals[i]\n",
    "    y = y_vals[i]\n",
    "    pos = int(round((y - min_y2) / val_per_symbl)) #Позиция звездочки\n",
    "    row = [\" \"] * (width + offset)\n",
    "    \n",
    "\n",
    "    for t in pairs:\n",
    "        p = t[0] #Позиция '|'\n",
    "        if t[1] == \"0\":\n",
    "            row[p] = \"|\"\n",
    "    \n",
    "    row[pos] = \"*\"\n",
    "\n",
    "    print(f\"{x:.1f} | {''.join(row)}\")"
   ]
  }
 ],
 "metadata": {
  "kernelspec": {
   "display_name": "Python 3",
   "language": "python",
   "name": "python3"
  },
  "language_info": {
   "codemirror_mode": {
    "name": "ipython",
    "version": 3
   },
   "file_extension": ".py",
   "mimetype": "text/x-python",
   "name": "python",
   "nbconvert_exporter": "python",
   "pygments_lexer": "ipython3",
   "version": "3.13.1"
  }
 },
 "nbformat": 4,
 "nbformat_minor": 2
}
