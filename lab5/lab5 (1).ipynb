{
 "cells": [
  {
   "attachments": {
    "telegram-cloud-photo-size-2-5390873020014394705-x.jpg": {
     "image/jpeg": "[encoded data removed]"
    }
   },
   "cell_type": "markdown",
   "metadata": {},
   "source": [
    "Дыновский Антон Денисович ИУ7 - 16Б\n",
    "\n",
    "Лаба 5\n",
    "\n",
    "![telegram-cloud-photo-size-2-5390873020014394705-x.jpg](attachment:telegram-cloud-photo-size-2-5390873020014394705-x.jpg)"
   ]
  },
  {
   "cell_type": "code",
   "execution_count": null,
   "metadata": {},
   "outputs": [],
   "source": [
    "firs_arg = float(input(\"Введите начальное значение аргумента: \"))\n",
    "last_arg = float(input(\"Введите конечное значение аргумента: \"))\n",
    "step = float(input(\"Введите шаг прироста аргумента: \"))"
   ]
  },
  {
   "cell_type": "code",
   "execution_count": null,
   "metadata": {},
   "outputs": [
    {
     "name": "stdout",
     "output_type": "stream",
     "text": [
      "---------------------------------\n",
      "|   x   |     y1     |   y2    |\n",
      "---------------------------------\n",
      "|  0.5  | -1.35051   | -15.875 |\n",
      "|  0.6  | -1.33311   | -15.224 |\n",
      "|  0.7  | -1.30843   | -14.617 |\n",
      "|  0.8  | -1.27753   | -14.048 |\n",
      "|  0.9  | -1.24118   | -13.511 |\n",
      "|   1   | -1.2       | -13     |\n",
      "|  1.1  | -1.15447   | -12.509 |\n",
      "|  1.2  | -1.10498   | -12.032 |\n",
      "|  1.3  | -1.05187   | -11.563 |\n",
      "|  1.4  | -0.995421  | -11.096 |\n",
      "|  1.5  | -0.935863  | -10.625 |\n",
      "|  1.6  | -0.873408  | -10.144 |\n",
      "|  1.7  | -0.808237  | -9.647  |\n",
      "|  1.8  | -0.740509  | -9.128  |\n",
      "|  1.9  | -0.670368  | -8.581  |\n",
      "|   2   | -0.59794   | -8      |\n",
      "|  2.1  | -0.523339  | -7.379  |\n",
      "|  2.2  | -0.44667   | -6.712  |\n",
      "|  2.3  | -0.368026  | -5.993  |\n",
      "|  2.4  | -0.287493  | -5.216  |\n",
      "|  2.5  | -0.20515   | -4.375  |\n",
      "|  2.6  | -0.121069  | -3.464  |\n",
      "|  2.7  | -0.0353178 | -2.477  |\n",
      "|  2.8  | 0.0520425  | -1.408  |\n",
      "|  2.9  | 0.140954   | -0.251  |\n",
      "|   3   | 0.231364   | 1       |\n",
      "|  3.1  | 0.323221   | 2.351   |\n",
      "|  3.2  | 0.41648    | 3.808   |\n",
      "|  3.3  | 0.511096   | 5.377   |\n",
      "|  3.4  | 0.607028   | 7.064   |\n",
      "|  3.5  | 0.704238   | 8.875   |\n",
      "|  3.6  | 0.802689   | 10.816  |\n",
      "|  3.7  | 0.902346   | 12.893  |\n",
      "|  3.8  | 1.00318    | 15.112  |\n",
      "|  3.9  | 1.10515    | 17.479  |\n",
      "|   4   | 1.20824    | 20      |\n",
      "|  4.1  | 1.31241    | 22.681  |\n",
      "|  4.2  | 1.41765    | 25.528  |\n",
      "|  4.3  | 1.52391    | 28.547  |\n",
      "|  4.4  | 1.63119    | 31.744  |\n",
      "|  4.5  | 1.73946    | 35.125  |\n",
      "|  4.6  | 1.84869    | 38.696  |\n",
      "|  4.7  | 1.95886    | 42.463  |\n",
      "|  4.8  | 2.06996    | 46.432  |\n",
      "|  4.9  | 2.18196    | 50.609  |\n",
      "|   5   | 2.29485    | 55      |\n",
      "|  5.1  | 2.40861    | 59.611  |\n",
      "|  5.2  | 2.52322    | 64.448  |\n",
      "|  5.3  | 2.63866    | 69.517  |\n",
      "|  5.4  | 2.75493    | 74.824  |\n",
      "|  5.5  | 2.87199    | 80.375  |\n",
      "---------------------------------\n"
     ]
    }
   ],
   "source": [
    "from math import log10\n",
    "x = firs_arg\n",
    "x_last = last_arg\n",
    "print(\"-\"*33)\n",
    "print(f\"| {\"x\":^5} | {\"y1\":^10} | {\"y2\":^7} |\\n{'-'*33}\")\n",
    "\n",
    "max_y2 = min_y2 = x**3 - 4*x**2 + 10*x - 20\n",
    "while x <= x_last:\n",
    "    y1 = x*log10(x) - 1.2\n",
    "    y2 = x**3 - 4*x**2 + 10*x - 20\n",
    "    min_y2 = min(min_y2,y2)\n",
    "    max_y2 = max(max_y2,y2)\n",
    "    print(f\"| {x:^5g} | {y1:<10g} | {y2:<7g} |\")\n",
    "    x = round(x+step,4)\n",
    "print(\"-\"*33) "
   ]
  },
  {
   "cell_type": "code",
   "execution_count": null,
   "metadata": {},
   "outputs": [],
   "source": [
    "ticks = int(input(\"Введите кол-во засечек от 4 до 8\")) "
   ]
  },
  {
   "cell_type": "code",
   "execution_count": null,
   "metadata": {},
   "outputs": [
    {
     "name": "stdout",
     "output_type": "stream",
     "text": [
      "     -15.88                  8.19                    32.25                    56.31                    80.38 \n",
      "1.50|     *          |\n",
      "1.60|     *          |\n",
      "1.70|      *         |\n",
      "1.80|       *        |\n",
      "1.90|       *        |\n",
      "2.00|        *       |\n",
      "2.10|        *       |\n",
      "2.20|         *      |\n",
      "2.30|          *     |\n",
      "2.40|           *    |\n",
      "2.50|           *    |\n",
      "2.60|            *   |\n",
      "2.70|             *  |\n",
      "2.80|               *|\n",
      "2.90|                +\n",
      "3.00|                |*\n",
      "3.10|                | *\n",
      "3.20|                |   *\n",
      "3.30|                |     *\n",
      "3.40|                |      *\n",
      "3.50|                |        *\n",
      "3.60|                |          *\n",
      "3.70|                |            *\n",
      "3.80|                |               *\n",
      "3.90|                |                 *\n",
      "4.00|                |                    *\n",
      "4.10|                |                       *\n",
      "4.20|                |                          *\n",
      "4.30|                |                             *\n",
      "4.40|                |                                *\n",
      "4.50|                |                                   *\n",
      "4.60|                |                                       *\n",
      "4.70|                |                                           *\n",
      "4.80|                |                                               *\n",
      "4.90|                |                                                    *\n",
      "5.00|                |                                                        *\n",
      "5.10|                |                                                             *\n",
      "5.20|                |                                                                  *\n",
      "5.30|                |                                                                       *\n",
      "5.40|                |                                                                             *\n",
      "5.50|                |                                                                                  *\n"
     ]
    }
   ],
   "source": [
    "width = 100\n",
    "offset = 5\n",
    "x = firs_arg\n",
    "x_last = last_arg\n",
    "\n",
    "val_per_symbl = (max_y2 - min_y2) / width #какое значение соответствует одному символу\n",
    "\n",
    "# --- Засечки (равномерные) ---\n",
    "tick_step = (max_y2 - min_y2) / (ticks - 1) #шаг засечек\n",
    "\n",
    "row_of_ticks = ' ' * offset\n",
    "i = 0\n",
    "while i < ticks:\n",
    "    # вывод меток\n",
    "    currentSerif = min_y2 + i*tick_step\n",
    "    serifPosition = int((i * tick_step) // val_per_symbl)\n",
    "    row_of_ticks += f'{' '*(serifPosition - len(row_of_ticks) + 4)}{(currentSerif):^6.2f}'\n",
    "    i += 1\n",
    "print(row_of_ticks)\n",
    "\n",
    "zero_pos = 0\n",
    "if min_y2 < 0 < max_y2:\n",
    "    zero_pos = int(-min_y2 // val_per_symbl)\n",
    "\n",
    "#Построение графика\n",
    "while x <= x_last:\n",
    "    y = x**3 - 4*x**2 + 10*x - 20\n",
    "    point_pos = int((y - min_y2)//val_per_symbl)\n",
    "    if zero_pos:\n",
    "        if point_pos < zero_pos:\n",
    "            print(f'{x:>{offset - 1}.2f}|{' ' * point_pos}*{' ' * (zero_pos - point_pos - 1)}|')\n",
    "        elif point_pos > zero_pos:\n",
    "            print(f'{x:>{offset - 1}.2f}|{' ' * zero_pos}|{' ' * (point_pos - zero_pos - 1)}*')\n",
    "        else: \n",
    "            print(f'{x:>{offset - 1}.2f}|{' ' * point_pos}+')\n",
    "    x = round(x+step,4)\n",
    "\n"
   ]
  }
 ],
 "metadata": {
  "kernelspec": {
   "display_name": "Python 3",
   "language": "python",
   "name": "python3"
  },
  "language_info": {
   "codemirror_mode": {
    "name": "ipython",
    "version": 3
   },
   "file_extension": ".py",
   "mimetype": "text/x-python",
   "name": "python",
   "nbconvert_exporter": "python",
   "pygments_lexer": "ipython3",
   "version": "3.12.3"
  }
 },
 "nbformat": 4,
 "nbformat_minor": 2
}
