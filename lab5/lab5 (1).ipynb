{
 "cells": [
  {
   "attachments": {
    "telegram-cloud-photo-size-2-5390873020014394705-x.jpg": {
     "image/jpeg": "[encoded data removed]"
    }
   },
   "cell_type": "markdown",
   "metadata": {},
   "source": [
    "Дыновский Антон Денисович ИУ7 - 16Б\n",
    "\n",
    "Лаба 5\n",
    "\n",
    "![telegram-cloud-photo-size-2-5390873020014394705-x.jpg](attachment:telegram-cloud-photo-size-2-5390873020014394705-x.jpg)"
   ]
  },
  {
   "cell_type": "code",
   "execution_count": 84,
   "metadata": {},
   "outputs": [],
   "source": [
    "first_arg= float(input(\"Введите начальное значение аргумента: \"))\n",
    "last_arg = float(input(\"Введите конечное значение аргумента: \"))\n",
    "step = float(input(\"Введите шаг прироста аргумента: \"))"
   ]
  },
  {
   "cell_type": "code",
   "execution_count": 85,
   "metadata": {},
   "outputs": [
    {
     "name": "stdout",
     "output_type": "stream",
     "text": [
      "-------------------------------------------------------\n",
      "|    x    |       y1        |       y2        |\n",
      "-------------------------------------------------------\n",
      "| 0       |        -        | -20             |\n",
      "| 0.05    | -1.26505        | -19.5099        |\n",
      "| 0.1     | -1.3            | -19.039         |\n",
      "| 0.15    | -1.32359        | -18.5866        |\n",
      "| 0.2     | -1.33979        | -18.152         |\n",
      "| 0.25    | -1.35051        | -17.7344        |\n",
      "| 0.3     | -1.35686        | -17.333         |\n",
      "| 0.35    | -1.35958        | -16.9471        |\n",
      "| 0.4     | -1.35918        | -16.576         |\n",
      "| 0.45    | -1.35605        | -16.2189        |\n",
      "| 0.5     | -1.35051        | -15.875         |\n",
      "| 0.55    | -1.3428         | -15.5436        |\n",
      "| 0.6     | -1.33311        | -15.224         |\n",
      "| 0.65    | -1.32161        | -14.9154        |\n",
      "| 0.7     | -1.30843        | -14.617         |\n",
      "| 0.75    | -1.2937         | -14.3281        |\n",
      "| 0.8     | -1.27753        | -14.048         |\n",
      "| 0.85    | -1.25999        | -13.7759        |\n",
      "| 0.9     | -1.24118        | -13.511         |\n",
      "| 0.95    | -1.22116        | -13.2526        |\n",
      "| 1       | -1.2            | -13             |\n",
      "-------------------------------------------------------\n"
     ]
    }
   ],
   "source": [
    "from math import log10\n",
    "x = first_arg\n",
    "x_last = last_arg\n",
    "print(\"-\"*55)\n",
    "print(f\"| {\"x\":^7} | {\"y1\":^15} | {\"y2\":^15} |\\n{'-'*55}\")\n",
    "\n",
    "max_y2 = min_y2 = x**3 - 4*x**2 + 10*x - 20\n",
    "while x <= x_last:\n",
    "    y2 = x**3 - 4*x**2 + 10*x - 20\n",
    "    if x > 0: \n",
    "        y1 = x*log10(x) - 1.2\n",
    "        print(f\"| {x:<7g} | {y1:<15g} | {y2:<15g} |\")\n",
    "        min_y2 = min(min_y2,y2)\n",
    "        max_y2 = max(max_y2,y2)\n",
    "    else: \n",
    "        print(f\"| {x:<7g} | {\"-\":^15} | {y2:<15g} |\")\n",
    "    x = round(x+step,4)\n",
    "print(\"-\"*55) "
   ]
  },
  {
   "cell_type": "code",
   "execution_count": 92,
   "metadata": {},
   "outputs": [],
   "source": [
    "ticks = int(input(\"Введите кол-во засечек от 4 до 8\")) "
   ]
  },
  {
   "cell_type": "code",
   "execution_count": null,
   "metadata": {},
   "outputs": [
    {
     "name": "stdout",
     "output_type": "stream",
     "text": [
      "     -20           -19           -18           -17            -16           -15           -14           -13\n",
      "   0.00|*\n",
      "   0.05|       *\n",
      "   0.10|             *\n",
      "   0.15|                    *\n",
      "   0.20|                          *\n",
      "   0.25|                                *\n",
      "   0.30|                                      *\n",
      "   0.35|                                           *\n",
      "   0.40|                                                *\n",
      "   0.45|                                                      *\n",
      "   0.50|                                                          *\n",
      "   0.55|                                                               *\n",
      "   0.60|                                                                    *\n",
      "   0.65|                                                                        *\n",
      "   0.70|                                                                            *\n",
      "   0.75|                                                                                 *\n",
      "   0.80|                                                                                     *\n",
      "   0.85|                                                                                        *\n",
      "   0.90|                                                                                            *\n",
      "   0.95|                                                                                                *\n",
      "   1.00|                                                                                                   *\n"
     ]
    }
   ],
   "source": [
    "width = 100\n",
    "\n",
    "if len(str(first_arg)) > 5:\n",
    "    offset = len(str(first_arg))\n",
    "else: \n",
    "    offset = 5\n",
    "\n",
    "x = first_arg\n",
    "x_last = last_arg\n",
    "\n",
    "val_per_symbl = (max_y2 - min_y2) / width #какое значение соответствует одному символу\n",
    "\n",
    "# --- Засечки (равномерные) ---\n",
    "tick_step = (max_y2 - min_y2) / (ticks - 1) #шаг засечек\n",
    "\n",
    "row_of_ticks = ' ' * offset #Создаём отступ \n",
    "i = 0\n",
    "while i < ticks:\n",
    "    # вывод меток\n",
    "    current_tick = min_y2 + i*tick_step\n",
    "    tick_position = int((i * tick_step) // val_per_symbl) + offset\n",
    "    row_of_ticks += f'{' '*(tick_position - len(row_of_ticks))}{(current_tick):.2g}'\n",
    "    i += 1\n",
    "print(row_of_ticks)\n",
    "\n",
    "zero_pos = None\n",
    "if min_y2 < 0 < max_y2:\n",
    "    zero_pos = int(-min_y2 // val_per_symbl)\n",
    "#Построение графика\n",
    "while x <= x_last:\n",
    "    y = x**3 - 4*x**2 + 10*x - 20\n",
    "    point_pos = int((y - min_y2)//val_per_symbl)\n",
    "    if zero_pos:\n",
    "        if point_pos < zero_pos:\n",
    "            print(f'{x:>{offset - 1}.1g}|{' ' * point_pos}*{' ' * (zero_pos - point_pos - 1)}|')\n",
    "        elif point_pos > zero_pos:\n",
    "            print(f'{x:>{offset - 1}.2g}|{' ' * zero_pos}|{' ' * (point_pos - zero_pos - 1)}*')\n",
    "        else: \n",
    "            print(f'{x:>{offset - 1}.2g}|{' ' * point_pos}+')\n",
    "    else:\n",
    "            print(f'{x:>7.2f}|{' ' * point_pos}*')\n",
    "    x = round(x+step,4)\n"
   ]
  }
 ],
 "metadata": {
  "kernelspec": {
   "display_name": "Python 3",
   "language": "python",
   "name": "python3"
  },
  "language_info": {
   "codemirror_mode": {
    "name": "ipython",
    "version": 3
   },
   "file_extension": ".py",
   "mimetype": "text/x-python",
   "name": "python",
   "nbconvert_exporter": "python",
   "pygments_lexer": "ipython3",
   "version": "3.13.1"
  }
 },
 "nbformat": 4,
 "nbformat_minor": 2
}
